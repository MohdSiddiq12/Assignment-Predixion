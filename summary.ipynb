{
 "cells": [
  {
   "cell_type": "code",
   "execution_count": 5,
   "metadata": {},
   "outputs": [],
   "source": [
    "import nltk\n",
    "from nltk.tokenize import sent_tokenize, word_tokenize\n",
    "from nltk.corpus import stopwords\n",
    "from nltk.stem import WordNetLemmatizer\n",
    "from transformers import pipeline\n",
    "import re\n",
    "from googletrans import Translator"
   ]
  },
  {
   "cell_type": "code",
   "execution_count": 6,
   "metadata": {},
   "outputs": [],
   "source": [
    "hindi_stopwords = [\n",
    "    \"और\", \"का\", \"के\", \"की\", \"हैं\", \"है\", \"था\", \"थे\", \"से\", \"में\", \"को\", \"पर\",\n",
    "    \"नहीं\", \"हुआ\", \"हुई\", \"हो\", \"कर\", \"दिया\", \"रहा\", \"करना\", \"करते\", \"सकते\",\n",
    "    \"इस\", \"होता\", \"जाता\", \"होते\", \"भी\", \"बाद\", \"लिए\", \"आप\", \"जो\", \"कहा\",\n",
    "    \"जब\", \"तो\", \"क्या\", \"जी\", \"ये\", \"जी\", \"वह\", \"जैसे\", \"कई\", \"कहते\", \"गया\",\n",
    "    \"करें\", \"होती\", \"अपना\", \"उनके\"\n",
    "]"
   ]
  },
  {
   "cell_type": "code",
   "execution_count": 7,
   "metadata": {},
   "outputs": [],
   "source": [
    "conversation = \"\"\"\n",
    "Recovery Agent (RA): नमस्ते श्री कुमार, मैं एक्स वाई जेड फाइनेंस से बोल रहा हूं। आपके लोन के बारे में बात करनी थी।\n",
    "Borrower (B): हां, बोलिए। क्या बात है?\n",
    "RA: सर, आपका पिछले महीने का EMI अभी तक नहीं आया है। क्या कोई समस्या है?\n",
    "B: हां, थोड़ी दिक्कत है। मेरी नौकरी चली गई है और मैं नया काम ढूंढ रहा हूं।\n",
    "RA: ओह, यह तो बुरा हुआ। लेकिन सर, आपको समझना होगा कि लोन का भुगतान समय पर करना बहुत जरूरी है।\n",
    "B: मैं समझता हूं, लेकिन अभी मेरे पास पैसे नहीं हैं। क्या कुछ समय मिल सकता है?\n",
    "RA: हम समझते हैं आपकी स्थिति। क्या आप अगले हफ्ते तक कुछ भुगतान कर सकते हैं?\n",
    "B: मैं कोशिश करूंगा, लेकिन पूरा EMI नहीं दे पाऊंगा। क्या आधा भुगतान चलेगा?\n",
    "RA: ठीक है, आधा भुगतान अगले हफ्ते तक कर दीजिए। बाकी का क्या प्लान है आपका?\n",
    "B: मुझे उम्मीद है कि अगले महीने तक मुझे नया काम मिल जाएगा। तब मैं बाकी बकाया चुका दूंगा।\n",
    "RA: ठीक है। तो हम ऐसा करते हैं - आप अगले हफ्ते तक आधा EMI जमा कर दीजिए, और अगले महीने के 15 तारीख तक बाकी का भुगतान कर दीजिए। क्या यह आपको स्वीकार है?\n",
    "B: हां, यह ठीक रहेगा। मैं इस प्लान का पालन करने की पूरी कोशिश करूंगा।\n",
    "RA: बहुत अच्छा। मैं आपको एक SMS भेज रहा हूं जिसमें भुगतान की डिटेल्स होंगी। कृपया इसका पालन करें और समय पर भुगतान करें।\n",
    "B: ठीक है, धन्यवाद आपके समझने के लिए।\n",
    "RA: आपका स्वागत है। अगर कोई और सवाल हो तो मुझे बताइएगा। अलविदा।\n",
    "B: अलविदा।\n",
    "\"\"\"\n"
   ]
  },
  {
   "cell_type": "code",
   "execution_count": 8,
   "metadata": {},
   "outputs": [],
   "source": [
    "#Text Cleaning removing extra white spaces\n",
    "conversation = re.sub(r'\\s+', ' ', conversation)\n"
   ]
  },
  {
   "cell_type": "code",
   "execution_count": 9,
   "metadata": {},
   "outputs": [],
   "source": [
    "#tokenization to break down text into single sentences\n",
    "sentences = sent_tokenize(conversation)"
   ]
  },
  {
   "cell_type": "code",
   "execution_count": 10,
   "metadata": {},
   "outputs": [],
   "source": [
    "#Speaker Identification\n",
    "tagged_sentences = []\n",
    "for sentence in sentences:\n",
    "    if 'RA:' in sentence:\n",
    "        tagged_sentences.append(('RA', sentence.replace('RA:', '').strip()))\n",
    "    elif 'B:' in sentence:\n",
    "        tagged_sentences.append(('B', sentence.replace('B:', '').strip()))"
   ]
  },
  {
   "cell_type": "code",
   "execution_count": 11,
   "metadata": {},
   "outputs": [
    {
     "name": "stderr",
     "output_type": "stream",
     "text": [
      "[nltk_data] Downloading package punkt to\n",
      "[nltk_data]     C:\\Users\\MohdS\\AppData\\Roaming\\nltk_data...\n",
      "[nltk_data]   Package punkt is already up-to-date!\n",
      "[nltk_data] Downloading package wordnet to\n",
      "[nltk_data]     C:\\Users\\MohdS\\AppData\\Roaming\\nltk_data...\n",
      "[nltk_data]   Package wordnet is already up-to-date!\n"
     ]
    }
   ],
   "source": [
    "# Lemmatization and Stop Words Removal\n",
    "nltk.download('punkt')\n",
    "nltk.download('wordnet')\n",
    "lemmatizer = WordNetLemmatizer()"
   ]
  },
  {
   "cell_type": "code",
   "execution_count": 12,
   "metadata": {},
   "outputs": [],
   "source": [
    "processed_sentences = []\n",
    "for speaker, sentence in tagged_sentences:\n",
    "    words = word_tokenize(sentence)\n",
    "    filtered_words = [lemmatizer.lemmatize(word) for word in words if word not in hindi_stopwords]\n",
    "    processed_sentences.append((speaker, ' '.join(filtered_words)))"
   ]
  },
  {
   "cell_type": "code",
   "execution_count": 13,
   "metadata": {},
   "outputs": [
    {
     "name": "stdout",
     "output_type": "stream",
     "text": [
      "RA: सर , आपका पिछले महीने EMI अभी तक आया है। कोई समस्या ?\n",
      "RA: B : हां , थोड़ी दिक्कत है। मेरी नौकरी चली गई मैं नया काम ढूंढ हूं। ओह , यह बुरा हुआ। लेकिन सर , आपको समझना होगा कि लोन भुगतान समय बहुत जरूरी है। B : मैं समझता हूं , लेकिन अभी मेरे पास पैसे हैं। कुछ समय मिल सकता ?\n",
      "RA: हम समझते आपकी स्थिति। अगले हफ्ते तक कुछ भुगतान ?\n",
      "B: मैं कोशिश करूंगा , लेकिन पूरा EMI दे पाऊंगा। आधा भुगतान चलेगा ?\n",
      "RA: ठीक , आधा भुगतान अगले हफ्ते तक दीजिए। बाकी प्लान आपका ?\n",
      "RA: B : मुझे उम्मीद कि अगले महीने तक मुझे नया काम मिल जाएगा। तब मैं बाकी बकाया चुका दूंगा। ठीक है। हम ऐसा - अगले हफ्ते तक आधा EMI जमा दीजिए , अगले महीने 15 तारीख तक बाकी भुगतान दीजिए। यह आपको स्वीकार ?\n",
      "RA: B : हां , यह ठीक रहेगा। मैं प्लान पालन करने पूरी कोशिश करूंगा। बहुत अच्छा। मैं आपको एक SMS भेज हूं जिसमें भुगतान डिटेल्स होंगी। कृपया इसका पालन समय भुगतान करें। B : ठीक , धन्यवाद आपके समझने लिए। आपका स्वागत है। अगर कोई सवाल मुझे बताइएगा। अलविदा। B : अलविदा।\n"
     ]
    }
   ],
   "source": [
    "# Print processed sentences\n",
    "for speaker, sentence in processed_sentences:\n",
    "    print(f'{speaker}: {sentence}')"
   ]
  },
  {
   "cell_type": "code",
   "execution_count": 14,
   "metadata": {},
   "outputs": [],
   "source": [
    "# Initialize the translator\n",
    "translator = Translator()"
   ]
  },
  {
   "cell_type": "code",
   "execution_count": 15,
   "metadata": {},
   "outputs": [],
   "source": [
    "# Translate the conversation to English\n",
    "translation = translator.translate(conversation, src='hi', dest='en')"
   ]
  },
  {
   "cell_type": "code",
   "execution_count": 26,
   "metadata": {},
   "outputs": [
    {
     "data": {
      "text/plain": [
       "'Recovery Agent (RA): Namaste Mr. Kumar, I am speaking from X Y Z Finance.Had to talk about your loan.Borrower (b): Yes, speak.What is the matter?Ra: Sir, your EMI of your previous month has not come yet.are there any problems?B: Yes, there is some problem.My job is gone and I am looking for new work.Ra: Oh, this is bad.But Sir, you have to understand that it is very important to pay the loan on time.B: I understand, but I do not have money right now.Can you get some time?Ra: We understand your situation.Can you pay something until next week?B: I will try, but I will not be able to give full EMI.Will half the payment run?Ra: Okay, pay half the payment by next week.What is your plan for the rest?B: I hope I will get a new job by next month.Then I will pay the rest of the arrears.Ra: Okay.So we do this - you submit half EMI by next week, and pay the rest by 15th of next month.Do you accept this?B: Yes, it will be fine.I will try my best to follow this plan.Ra: Very good.I am sending you an SMS that will have payment details.Please follow it and pay on time.B: Okay, thanks for your understanding.Ra: Welcome.If there is any other question, it will be told to me.goodbye.B: Goodbye.'"
      ]
     },
     "execution_count": 26,
     "metadata": {},
     "output_type": "execute_result"
    }
   ],
   "source": [
    "translated_text = translation.text"
   ]
  },
  {
   "cell_type": "code",
   "execution_count": 21,
   "metadata": {},
   "outputs": [
    {
     "name": "stderr",
     "output_type": "stream",
     "text": [
      "c:\\Python312\\Lib\\site-packages\\huggingface_hub\\file_download.py:157: UserWarning: `huggingface_hub` cache-system uses symlinks by default to efficiently store duplicated files but your machine does not support them in C:\\Users\\MohdS\\.cache\\huggingface\\hub\\models--philschmid--bart-large-cnn-samsum. Caching files will still work but in a degraded version that might require more space on your disk. This warning can be disabled by setting the `HF_HUB_DISABLE_SYMLINKS_WARNING` environment variable. For more details, see https://huggingface.co/docs/huggingface_hub/how-to-cache#limitations.\n",
      "To support symlinks on Windows, you either need to activate Developer Mode or to run Python as an administrator. In order to see activate developer mode, see this article: https://docs.microsoft.com/en-us/windows/apps/get-started/enable-your-device-for-development\n",
      "  warnings.warn(message)\n"
     ]
    }
   ],
   "source": [
    "# Initialize the summarization pipeline\n",
    "summarizer = pipeline(\"summarization\", model=\"philschmid/bart-large-cnn-samsum\")"
   ]
  },
  {
   "cell_type": "code",
   "execution_count": 52,
   "metadata": {},
   "outputs": [],
   "source": [
    "summary = summarizer(translated_text, max_length=100, min_length=70, do_sample=False)[0]['summary_text']"
   ]
  },
  {
   "cell_type": "code",
   "execution_count": 53,
   "metadata": {},
   "outputs": [
    {
     "data": {
      "text/plain": [
       "\"Borrower's previous month's EMI has not come yet. B's job is gone and he is looking for a new one. B will pay half of the payment by next week and the rest by the 15th of the next month. Ra will send B an SMS with payment details. B accepts the payment plan. \""
      ]
     },
     "execution_count": 53,
     "metadata": {},
     "output_type": "execute_result"
    }
   ],
   "source": [
    "summary"
   ]
  }
 ],
 "metadata": {
  "kernelspec": {
   "display_name": "Python 3",
   "language": "python",
   "name": "python3"
  },
  "language_info": {
   "codemirror_mode": {
    "name": "ipython",
    "version": 3
   },
   "file_extension": ".py",
   "mimetype": "text/x-python",
   "name": "python",
   "nbconvert_exporter": "python",
   "pygments_lexer": "ipython3",
   "version": "3.12.2"
  }
 },
 "nbformat": 4,
 "nbformat_minor": 2
}
